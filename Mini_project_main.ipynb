{
  "cells": [
    {
      "cell_type": "markdown",
      "metadata": {
        "id": "view-in-github",
        "colab_type": "text"
      },
      "source": [
        "<a href=\"https://colab.research.google.com/github/usha0714/Deciphering-Gender-from-Handwriting/blob/main/Mini_project_main.ipynb\" target=\"_parent\"><img src=\"https://colab.research.google.com/assets/colab-badge.svg\" alt=\"Open In Colab\"/></a>"
      ]
    },
    {
      "cell_type": "markdown",
      "source": [
        "**DATA COLLECTION AND PREPROCESSING**"
      ],
      "metadata": {
        "id": "Xd9tQ22i_F-L"
      }
    },
    {
      "cell_type": "code",
      "execution_count": null,
      "metadata": {
        "id": "AB-roFRx3tvp"
      },
      "outputs": [],
      "source": [
        "import os\n",
        "import numpy as np\n",
        "import tensorflow as tf\n",
        "import matplotlib.pyplot as plt\n",
        "from tensorflow.keras.preprocessing.image import ImageDataGenerator\n",
        "from tensorflow.keras.applications import ResNet50, VGG16, InceptionV3, MobileNetV2, DenseNet121, EfficientNetB0\n",
        "from tensorflow.keras.models import Model\n",
        "from tensorflow.keras.layers import Dense, GlobalAveragePooling2D\n",
        "from tensorflow.keras.callbacks import EarlyStopping, ModelCheckpoint,ReduceLROnPlateau\n",
        "from sklearn.model_selection import train_test_split"
      ]
    },
    {
      "cell_type": "code",
      "execution_count": null,
      "metadata": {
        "colab": {
          "base_uri": "https://localhost:8080/"
        },
        "id": "MRV4yOzu3lxE",
        "outputId": "1575c460-1d81-4a36-d256-99d2b53d21ff"
      },
      "outputs": [
        {
          "output_type": "stream",
          "name": "stdout",
          "text": [
            "Files extracted to /content/extracted_folder\n"
          ]
        }
      ],
      "source": [
        "import zipfile\n",
        "import os\n",
        "\n",
        "# Path to the zip file\n",
        "zip_file_path = '/content/female.zip'\n",
        "# Path to extract the contents\n",
        "extract_path = '/content/extracted_folder'\n",
        "\n",
        "# Create the extraction directory if it does not exist\n",
        "os.makedirs(extract_path, exist_ok=True)\n",
        "\n",
        "# Unzipping the file\n",
        "with zipfile.ZipFile(zip_file_path, 'r') as zip_ref:\n",
        "    zip_ref.extractall(extract_path)\n",
        "\n",
        "print(f'Files extracted to {extract_path}')"
      ]
    },
    {
      "cell_type": "code",
      "execution_count": null,
      "metadata": {
        "colab": {
          "base_uri": "https://localhost:8080/"
        },
        "id": "JxLd9HPd3yjT",
        "outputId": "b2eba419-8d90-48d9-cf1a-e20843219b21"
      },
      "outputs": [
        {
          "output_type": "stream",
          "name": "stdout",
          "text": [
            "Files extracted to /content/extracted_folder\n"
          ]
        }
      ],
      "source": [
        "import zipfile\n",
        "import os\n",
        "\n",
        "# Path to the zip file\n",
        "zip_file_path = '/content/male.zip'\n",
        "# Path to extract the contents\n",
        "extract_path = '/content/extracted_folder'\n",
        "\n",
        "# Create the extraction directory if it does not exist\n",
        "os.makedirs(extract_path, exist_ok=True)\n",
        "\n",
        "# Unzipping the file\n",
        "with zipfile.ZipFile(zip_file_path, 'r') as zip_ref:\n",
        "    zip_ref.extractall(extract_path)\n",
        "\n",
        "print(f'Files extracted to {extract_path}')"
      ]
    },
    {
      "cell_type": "code",
      "execution_count": null,
      "metadata": {
        "id": "2lCCnTvr3rni"
      },
      "outputs": [],
      "source": [
        "# Data directories\n",
        "data_dir = '/content/extracted_folder'"
      ]
    },
    {
      "cell_type": "code",
      "execution_count": null,
      "metadata": {
        "colab": {
          "base_uri": "https://localhost:8080/"
        },
        "id": "xE_e-crb30ST",
        "outputId": "a6a43957-f6de-42c3-e0fd-0c61d09cc35a"
      },
      "outputs": [
        {
          "output_type": "stream",
          "name": "stdout",
          "text": [
            "Found 153 images belonging to 2 classes.\n"
          ]
        }
      ],
      "source": [
        "# Data augmentation for training\n",
        "train_datagen = ImageDataGenerator(\n",
        "    rescale=1.0/255,\n",
        "    rotation_range=40,\n",
        "    width_shift_range=0.2,\n",
        "    height_shift_range=0.2,\n",
        "    shear_range=0.2,\n",
        "    zoom_range=0.2,\n",
        "    horizontal_flip=True,\n",
        "    fill_mode='nearest',\n",
        "    validation_split=0.1  # Splitting data into training and validation\n",
        ")\n",
        "\n",
        "# Data preparation for validation and test sets\n",
        "test_datagen = ImageDataGenerator(rescale=1.0/255, validation_split=0.1)\n",
        "\n",
        "train_generator = train_datagen.flow_from_directory(\n",
        "    data_dir,\n",
        "    target_size=(224, 224),\n",
        "    batch_size=10,\n",
        "    class_mode='categorical',\n",
        "    subset='training'\n",
        ")"
      ]
    },
    {
      "cell_type": "code",
      "execution_count": null,
      "metadata": {
        "colab": {
          "base_uri": "https://localhost:8080/"
        },
        "id": "M5dWU2Xp354K",
        "outputId": "18b2f000-8ff0-46ef-a043-d44b5a7bb07f"
      },
      "outputs": [
        {
          "output_type": "stream",
          "name": "stdout",
          "text": [
            "Found 16 images belonging to 2 classes.\n"
          ]
        }
      ],
      "source": [
        "validation_generator = test_datagen.flow_from_directory(\n",
        "    data_dir,\n",
        "    target_size=(224, 224),\n",
        "    batch_size=10,\n",
        "    class_mode='categorical',\n",
        "    subset='validation'\n",
        ")"
      ]
    },
    {
      "cell_type": "code",
      "execution_count": null,
      "metadata": {
        "id": "eUYX9xRn38Nn"
      },
      "outputs": [],
      "source": [
        "# Retrieve class indices mapping\n",
        "class_indices = train_generator.class_indices\n",
        "# Reverse the mapping to get a dictionary that maps indices to class names\n",
        "index_to_class = {v: k for k, v in class_indices.items()}"
      ]
    },
    {
      "cell_type": "markdown",
      "source": [
        "**FEATURE EXTRACTION**"
      ],
      "metadata": {
        "id": "RCzw7y05_ZlY"
      }
    },
    {
      "cell_type": "code",
      "execution_count": null,
      "metadata": {
        "id": "Z92sKoXR3-zY"
      },
      "outputs": [],
      "source": [
        "def create_model(base_model):\n",
        "    x = base_model.output\n",
        "    x = GlobalAveragePooling2D()(x)\n",
        "    x = Dense(1024, activation='relu')(x)\n",
        "    predictions = Dense(len(class_indices), activation='softmax')(x)  # Assuming 10 classes\n",
        "    model = Model(inputs=base_model.input, outputs=predictions)\n",
        "\n",
        "    for layer in base_model.layers:\n",
        "        layer.trainable = False  # Freeze the base model layers\n",
        "\n",
        "    model.compile(optimizer='adam', loss='categorical_crossentropy', metrics=['accuracy'])\n",
        "    return model\n"
      ]
    },
    {
      "cell_type": "markdown",
      "source": [
        "**MODEL TRAINING AND EVALUATION**"
      ],
      "metadata": {
        "id": "_Gz1XYfS_iKA"
      }
    },
    {
      "cell_type": "code",
      "execution_count": null,
      "metadata": {
        "id": "sHCerU343_qv"
      },
      "outputs": [],
      "source": [
        "# List of base models to evaluate\n",
        "base_models = [\n",
        "    ResNet50(weights='imagenet', include_top=False, input_shape=(224, 224, 3)),\n",
        "    VGG16(weights='imagenet', include_top=False, input_shape=(224, 224, 3)),\n",
        "    InceptionV3(weights='imagenet', include_top=False, input_shape=(224, 224, 3)),\n",
        "    MobileNetV2(weights='imagenet', include_top=False, input_shape=(224, 224, 3)),\n",
        "    DenseNet121(weights='imagenet', include_top=False, input_shape=(224, 224, 3)),\n",
        "    EfficientNetB0(weights='imagenet', include_top=False, input_shape=(224, 224, 3))\n",
        "]"
      ]
    },
    {
      "cell_type": "code",
      "execution_count": null,
      "metadata": {
        "id": "hBn_daoW4ARs"
      },
      "outputs": [],
      "source": [
        "# Initialize variables to store best model and accuracy\n",
        "best_model = None\n",
        "best_accuracy = 0.0\n",
        "model_histories = {}\n",
        "model_accuracies={}"
      ]
    },
    {
      "cell_type": "code",
      "execution_count": null,
      "metadata": {
        "colab": {
          "base_uri": "https://localhost:8080/",
          "height": 1000
        },
        "id": "KTK-5ufn4E7n",
        "outputId": "84bb50e9-723c-48eb-9c61-9a710bda67e4"
      },
      "outputs": [
        {
          "output_type": "stream",
          "name": "stdout",
          "text": [
            "training --> resnet50\n",
            "Epoch 1/40\n",
            "16/16 [==============================] - 9s 289ms/step - loss: 1.2876 - accuracy: 0.6275 - val_loss: 0.5168 - val_accuracy: 0.8125 - lr: 0.0010\n",
            "Epoch 2/40\n",
            "16/16 [==============================] - 2s 151ms/step - loss: 0.7576 - accuracy: 0.7255 - val_loss: 0.8600 - val_accuracy: 0.2500 - lr: 0.0010\n",
            "Epoch 3/40\n",
            "16/16 [==============================] - 2s 152ms/step - loss: 0.4823 - accuracy: 0.8039 - val_loss: 0.5231 - val_accuracy: 0.7500 - lr: 0.0010\n",
            "Epoch 4/40\n",
            "16/16 [==============================] - 4s 252ms/step - loss: 0.4881 - accuracy: 0.7778 - val_loss: 0.4664 - val_accuracy: 0.8125 - lr: 0.0010\n",
            "Epoch 5/40\n",
            "16/16 [==============================] - 2s 149ms/step - loss: 0.5269 - accuracy: 0.7843 - val_loss: 0.6989 - val_accuracy: 0.5000 - lr: 0.0010\n",
            "Epoch 6/40\n",
            "16/16 [==============================] - 2s 151ms/step - loss: 0.5400 - accuracy: 0.7778 - val_loss: 0.7857 - val_accuracy: 0.5625 - lr: 0.0010\n",
            "Epoch 7/40\n",
            "16/16 [==============================] - 2s 155ms/step - loss: 0.5005 - accuracy: 0.7843 - val_loss: 0.4848 - val_accuracy: 0.7500 - lr: 0.0010\n",
            "Epoch 8/40\n",
            "16/16 [==============================] - 3s 204ms/step - loss: 0.4600 - accuracy: 0.7974 - val_loss: 0.6405 - val_accuracy: 0.6875 - lr: 2.0000e-04\n",
            "Epoch 9/40\n",
            "16/16 [==============================] - 3s 165ms/step - loss: 0.4716 - accuracy: 0.7974 - val_loss: 0.5219 - val_accuracy: 0.7500 - lr: 2.0000e-04\n",
            "2/2 [==============================] - 0s 39ms/step - loss: 0.4664 - accuracy: 0.8125\n",
            "training --> vgg16\n",
            "Epoch 1/40\n",
            "16/16 [==============================] - 6s 290ms/step - loss: 0.5529 - accuracy: 0.7516 - val_loss: 0.5272 - val_accuracy: 0.8125 - lr: 0.0010\n",
            "Epoch 2/40\n",
            "16/16 [==============================] - 2s 149ms/step - loss: 0.4882 - accuracy: 0.8105 - val_loss: 0.9126 - val_accuracy: 0.2500 - lr: 0.0010\n",
            "Epoch 3/40\n",
            "16/16 [==============================] - 3s 162ms/step - loss: 0.4416 - accuracy: 0.7843 - val_loss: 0.5158 - val_accuracy: 0.8125 - lr: 0.0010\n",
            "Epoch 4/40\n",
            "16/16 [==============================] - 3s 217ms/step - loss: 0.4482 - accuracy: 0.8366 - val_loss: 0.9895 - val_accuracy: 0.2500 - lr: 0.0010\n",
            "Epoch 5/40\n",
            "16/16 [==============================] - 2s 149ms/step - loss: 0.4263 - accuracy: 0.7908 - val_loss: 0.8733 - val_accuracy: 0.2500 - lr: 0.0010\n",
            "Epoch 6/40\n",
            "16/16 [==============================] - 2s 146ms/step - loss: 0.4056 - accuracy: 0.8105 - val_loss: 1.3622 - val_accuracy: 0.2500 - lr: 0.0010\n",
            "Epoch 7/40\n",
            "16/16 [==============================] - 2s 147ms/step - loss: 0.4370 - accuracy: 0.8235 - val_loss: 0.8564 - val_accuracy: 0.3125 - lr: 2.0000e-04\n",
            "Epoch 8/40\n",
            "16/16 [==============================] - 2s 150ms/step - loss: 0.3881 - accuracy: 0.8235 - val_loss: 0.8596 - val_accuracy: 0.3125 - lr: 2.0000e-04\n",
            "2/2 [==============================] - 0s 30ms/step - loss: 0.5158 - accuracy: 0.8125\n",
            "training --> inception_v3\n",
            "Epoch 1/40\n",
            "16/16 [==============================] - 11s 382ms/step - loss: 1.0361 - accuracy: 0.7190 - val_loss: 1.0380 - val_accuracy: 0.3750 - lr: 0.0010\n",
            "Epoch 2/40\n",
            "16/16 [==============================] - 2s 149ms/step - loss: 0.5127 - accuracy: 0.7778 - val_loss: 1.1384 - val_accuracy: 0.2500 - lr: 0.0010\n",
            "Epoch 3/40\n",
            "16/16 [==============================] - 2s 152ms/step - loss: 0.5878 - accuracy: 0.7908 - val_loss: 1.6470 - val_accuracy: 0.2500 - lr: 0.0010\n",
            "Epoch 4/40\n",
            "16/16 [==============================] - 3s 198ms/step - loss: 0.5549 - accuracy: 0.7974 - val_loss: 0.7883 - val_accuracy: 0.3750 - lr: 0.0010\n",
            "Epoch 5/40\n",
            "16/16 [==============================] - 3s 201ms/step - loss: 0.4379 - accuracy: 0.8170 - val_loss: 0.4992 - val_accuracy: 0.7500 - lr: 0.0010\n",
            "Epoch 6/40\n",
            "16/16 [==============================] - 2s 149ms/step - loss: 0.3952 - accuracy: 0.8235 - val_loss: 0.6614 - val_accuracy: 0.6250 - lr: 0.0010\n",
            "Epoch 7/40\n",
            "16/16 [==============================] - 3s 219ms/step - loss: 0.3954 - accuracy: 0.8562 - val_loss: 0.4675 - val_accuracy: 0.7500 - lr: 0.0010\n",
            "Epoch 8/40\n",
            "16/16 [==============================] - 3s 201ms/step - loss: 0.4037 - accuracy: 0.8105 - val_loss: 0.4343 - val_accuracy: 0.7500 - lr: 0.0010\n",
            "Epoch 9/40\n",
            "16/16 [==============================] - 2s 152ms/step - loss: 0.4813 - accuracy: 0.7908 - val_loss: 0.5026 - val_accuracy: 0.7500 - lr: 0.0010\n",
            "Epoch 10/40\n",
            "16/16 [==============================] - 4s 255ms/step - loss: 0.4138 - accuracy: 0.8105 - val_loss: 0.4236 - val_accuracy: 0.8125 - lr: 0.0010\n",
            "Epoch 11/40\n",
            "16/16 [==============================] - 3s 153ms/step - loss: 0.5089 - accuracy: 0.7974 - val_loss: 0.7546 - val_accuracy: 0.5000 - lr: 0.0010\n",
            "Epoch 12/40\n",
            "16/16 [==============================] - 2s 149ms/step - loss: 0.4282 - accuracy: 0.8039 - val_loss: 0.9642 - val_accuracy: 0.3125 - lr: 0.0010\n",
            "Epoch 13/40\n",
            "16/16 [==============================] - 2s 147ms/step - loss: 0.3466 - accuracy: 0.8562 - val_loss: 0.6636 - val_accuracy: 0.5625 - lr: 0.0010\n",
            "Epoch 14/40\n",
            "16/16 [==============================] - 4s 224ms/step - loss: 0.3536 - accuracy: 0.8693 - val_loss: 0.6781 - val_accuracy: 0.5625 - lr: 2.0000e-04\n",
            "Epoch 15/40\n",
            "16/16 [==============================] - 3s 167ms/step - loss: 0.3559 - accuracy: 0.8301 - val_loss: 0.6532 - val_accuracy: 0.5625 - lr: 2.0000e-04\n",
            "2/2 [==============================] - 0s 43ms/step - loss: 0.4236 - accuracy: 0.8125\n",
            "training --> mobilenetv2_1.00_224\n",
            "Epoch 1/40\n",
            "16/16 [==============================] - 7s 291ms/step - loss: 1.3932 - accuracy: 0.7059 - val_loss: 1.3503 - val_accuracy: 0.2500 - lr: 0.0010\n",
            "Epoch 2/40\n",
            "16/16 [==============================] - 3s 162ms/step - loss: 0.6071 - accuracy: 0.7778 - val_loss: 1.0987 - val_accuracy: 0.2500 - lr: 0.0010\n",
            "Epoch 3/40\n",
            "16/16 [==============================] - 3s 170ms/step - loss: 0.4137 - accuracy: 0.7974 - val_loss: 0.5574 - val_accuracy: 0.7500 - lr: 0.0010\n",
            "Epoch 4/40\n",
            "16/16 [==============================] - 2s 141ms/step - loss: 0.4164 - accuracy: 0.7908 - val_loss: 0.8023 - val_accuracy: 0.4375 - lr: 0.0010\n",
            "Epoch 5/40\n",
            "16/16 [==============================] - 2s 131ms/step - loss: 0.3900 - accuracy: 0.8366 - val_loss: 1.1864 - val_accuracy: 0.2500 - lr: 0.0010\n",
            "Epoch 6/40\n",
            "16/16 [==============================] - 2s 133ms/step - loss: 0.3797 - accuracy: 0.8497 - val_loss: 1.0459 - val_accuracy: 0.2500 - lr: 0.0010\n",
            "Epoch 7/40\n",
            "16/16 [==============================] - 2s 143ms/step - loss: 0.3596 - accuracy: 0.8562 - val_loss: 0.8739 - val_accuracy: 0.4375 - lr: 2.0000e-04\n",
            "Epoch 8/40\n",
            "16/16 [==============================] - 3s 185ms/step - loss: 0.3594 - accuracy: 0.8431 - val_loss: 0.9369 - val_accuracy: 0.3125 - lr: 2.0000e-04\n",
            "2/2 [==============================] - 0s 22ms/step - loss: 0.5574 - accuracy: 0.7500\n",
            "training --> densenet121\n",
            "Epoch 1/40\n",
            "16/16 [==============================] - 13s 485ms/step - loss: 0.6063 - accuracy: 0.7582 - val_loss: 1.9801 - val_accuracy: 0.2500 - lr: 0.0010\n",
            "Epoch 2/40\n",
            "16/16 [==============================] - 3s 207ms/step - loss: 0.4931 - accuracy: 0.7843 - val_loss: 0.6686 - val_accuracy: 0.6250 - lr: 0.0010\n",
            "Epoch 3/40\n",
            "16/16 [==============================] - 3s 181ms/step - loss: 0.4577 - accuracy: 0.8301 - val_loss: 0.7134 - val_accuracy: 0.6250 - lr: 0.0010\n",
            "Epoch 4/40\n",
            "16/16 [==============================] - 2s 148ms/step - loss: 0.4470 - accuracy: 0.8105 - val_loss: 1.2057 - val_accuracy: 0.3750 - lr: 0.0010\n",
            "Epoch 5/40\n",
            "16/16 [==============================] - 2s 152ms/step - loss: 0.3510 - accuracy: 0.8301 - val_loss: 1.1885 - val_accuracy: 0.3750 - lr: 0.0010\n",
            "Epoch 6/40\n",
            "16/16 [==============================] - 2s 156ms/step - loss: 0.3767 - accuracy: 0.8235 - val_loss: 0.8429 - val_accuracy: 0.3750 - lr: 2.0000e-04\n",
            "Epoch 7/40\n",
            "16/16 [==============================] - 4s 216ms/step - loss: 0.4129 - accuracy: 0.8431 - val_loss: 1.0831 - val_accuracy: 0.3750 - lr: 2.0000e-04\n",
            "2/2 [==============================] - 0s 42ms/step - loss: 0.6686 - accuracy: 0.6250\n",
            "training --> efficientnetb0\n",
            "Epoch 1/40\n",
            "16/16 [==============================] - 12s 310ms/step - loss: 0.6153 - accuracy: 0.7451 - val_loss: 0.6036 - val_accuracy: 0.8125 - lr: 0.0010\n",
            "Epoch 2/40\n",
            "16/16 [==============================] - 3s 177ms/step - loss: 0.5587 - accuracy: 0.7974 - val_loss: 0.5022 - val_accuracy: 0.8125 - lr: 0.0010\n",
            "Epoch 3/40\n",
            "16/16 [==============================] - 2s 139ms/step - loss: 0.5993 - accuracy: 0.7908 - val_loss: 0.5283 - val_accuracy: 0.8125 - lr: 0.0010\n",
            "Epoch 4/40\n",
            "16/16 [==============================] - 2s 141ms/step - loss: 0.5499 - accuracy: 0.7974 - val_loss: 0.5405 - val_accuracy: 0.8125 - lr: 0.0010\n",
            "Epoch 5/40\n",
            "16/16 [==============================] - 3s 181ms/step - loss: 0.5792 - accuracy: 0.7974 - val_loss: 0.4870 - val_accuracy: 0.8125 - lr: 0.0010\n",
            "Epoch 6/40\n",
            "16/16 [==============================] - 4s 220ms/step - loss: 0.5735 - accuracy: 0.7974 - val_loss: 0.4826 - val_accuracy: 0.8125 - lr: 0.0010\n",
            "Epoch 7/40\n",
            "16/16 [==============================] - 2s 140ms/step - loss: 0.5537 - accuracy: 0.7974 - val_loss: 0.5703 - val_accuracy: 0.8125 - lr: 0.0010\n",
            "Epoch 8/40\n",
            "16/16 [==============================] - 2s 140ms/step - loss: 0.5268 - accuracy: 0.7974 - val_loss: 0.4827 - val_accuracy: 0.8125 - lr: 0.0010\n",
            "Epoch 9/40\n",
            "16/16 [==============================] - 2s 142ms/step - loss: 0.5129 - accuracy: 0.7974 - val_loss: 0.5286 - val_accuracy: 0.8125 - lr: 0.0010\n",
            "Epoch 10/40\n",
            "16/16 [==============================] - 3s 196ms/step - loss: 0.5162 - accuracy: 0.7974 - val_loss: 0.4832 - val_accuracy: 0.8125 - lr: 2.0000e-04\n",
            "Epoch 11/40\n",
            "16/16 [==============================] - 3s 154ms/step - loss: 0.5078 - accuracy: 0.7974 - val_loss: 0.4830 - val_accuracy: 0.8125 - lr: 2.0000e-04\n",
            "2/2 [==============================] - 0s 26ms/step - loss: 0.4826 - accuracy: 0.8125\n",
            "Best model: resnet50 with accuracy: 0.8125\n"
          ]
        },
        {
          "output_type": "display_data",
          "data": {
            "text/plain": [
              "<Figure size 1000x500 with 1 Axes>"
            ],
            "image/png": "[encoded data removed]"
          },
          "metadata": {}
        }
      ],
      "source": [
        "for base_model in base_models:\n",
        "    model = create_model(base_model)\n",
        "    model_name = base_model.name\n",
        "\n",
        "    # Define callbacks\n",
        "    callbacks = [\n",
        "        EarlyStopping(monitor='val_loss', patience=5, restore_best_weights=True),\n",
        "        ModelCheckpoint(f'{model_name}.h5', monitor='val_loss', save_best_only=True),\n",
        "        ReduceLROnPlateau(monitor='val_loss', factor=0.2, patience=3, min_lr=1e-5)\n",
        "    ]\n",
        "    print('training -->',model_name)\n",
        "    # Train the model\n",
        "    history = model.fit(\n",
        "        train_generator,\n",
        "        epochs=40,\n",
        "        validation_data=validation_generator,\n",
        "        callbacks=callbacks\n",
        "    )\n",
        "    model_histories[model_name] = history.history\n",
        "\n",
        "    # Evaluate the model\n",
        "    val_loss, val_accuracy = model.evaluate(validation_generator)\n",
        "    model_accuracies[model_name] = val_accuracy\n",
        "    # Update the best model\n",
        "    if val_accuracy > best_accuracy:\n",
        "        best_accuracy = val_accuracy\n",
        "        best_model = model_name\n",
        "    #plt.plot(history.history['val_accuracy'], label=f'{model_name} val_accuracy')\n",
        "    model.save(f'best_model_{model_name}.h5')\n",
        "\n",
        "'''plt.title('Model Validation Accuracy')\n",
        "plt.xlabel('Epochs')\n",
        "plt.ylabel('Accuracy')\n",
        "plt.legend()\n",
        "plt.show()'''\n",
        "print(f'Best model: {best_model} with accuracy: {best_accuracy}')\n",
        "plt.figure(figsize=(10, 5))\n",
        "plt.bar(model_accuracies.keys(), model_accuracies.values(), color='skyblue')\n",
        "plt.xlabel('Model')\n",
        "plt.ylabel('Validation Accuracy')\n",
        "plt.title('Comparison of Validation Accuracy for Different Models')\n",
        "plt.xticks(rotation=45)\n",
        "plt.ylim(0, 1)\n",
        "plt.show()"
      ]
    },
    {
      "cell_type": "markdown",
      "source": [
        "**MODEL TESTING**"
      ],
      "metadata": {
        "id": "aH7OgWb1_5Jx"
      }
    },
    {
      "cell_type": "code",
      "execution_count": null,
      "metadata": {
        "id": "AdofrfWx4FWk"
      },
      "outputs": [],
      "source": [
        "def load_model(model_name):\n",
        "    base_model_map = {\n",
        "        'resnet50': ResNet50,\n",
        "        'vgg16': VGG16,\n",
        "        'inception_v3': InceptionV3,\n",
        "        'mobilenetv2_1.00_224': MobileNetV2,\n",
        "        'densenet121': DenseNet121,\n",
        "        'efficientnetb0': EfficientNetB0\n",
        "    }\n",
        "    base_model = base_model_map[model_name](weights='imagenet', include_top=False, input_shape=(224, 224, 3))\n",
        "    model = create_model(base_model)\n",
        "    model.load_weights(f'{model_name}.h5')\n",
        "    for layer in model.layers[-20:]:\n",
        "        layer.trainable = True\n",
        "\n",
        "    model.compile(optimizer=tf.keras.optimizers.Adam(learning_rate=1e-5), loss='categorical_crossentropy', metrics=['accuracy'])\n",
        "    return model\n",
        "\n",
        "best_model = load_model(best_model)"
      ]
    },
    {
      "cell_type": "markdown",
      "source": [
        "**CLASSIFYING OUTPUT**"
      ],
      "metadata": {
        "id": "DjLrdyEJAFmH"
      }
    },
    {
      "cell_type": "code",
      "execution_count": null,
      "metadata": {
        "id": "AeRCNp2k3m1g",
        "colab": {
          "base_uri": "https://localhost:8080/"
        },
        "outputId": "ee4006f1-f464-4dc8-ea99-55bcd87f5577"
      },
      "outputs": [
        {
          "output_type": "stream",
          "name": "stdout",
          "text": [
            "1/1 [==============================] - 0s 24ms/step\n",
            "Predicted class: male1 with probabilities: [[0.03280845 0.9671915 ]]\n"
          ]
        }
      ],
      "source": [
        "def predict_image(model, img_path, index_to_class):\n",
        "    from tensorflow.keras.preprocessing import image\n",
        "    img = image.load_img(img_path, target_size=(224, 224))\n",
        "    img_array = image.img_to_array(img)\n",
        "    img_array = np.expand_dims(img_array, axis=0) / 255.0\n",
        "    prediction = model.predict(img_array)\n",
        "    predicted_index = np.argmax(prediction)\n",
        "    predicted_class_name = index_to_class[predicted_index]\n",
        "    return predicted_class_name, prediction\n",
        "\n",
        "# Example usage\n",
        "img_path = '/content/plain.jpg'\n",
        "predicted_class_name, probabilities = predict_image(best_model, img_path, index_to_class)\n",
        "print(f'Predicted class: {predicted_class_name} with probabilities: {probabilities}')"
      ]
    }
  ],
  "metadata": {
    "accelerator": "GPU",
    "colab": {
      "gpuType": "T4",
      "provenance": [],
      "include_colab_link": true
    },
    "kernelspec": {
      "display_name": "Python 3",
      "name": "python3"
    },
    "language_info": {
      "name": "python"
    }
  },
  "nbformat": 4,
  "nbformat_minor": 0
}